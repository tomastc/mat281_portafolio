{
 "cells": [
  {
   "cell_type": "markdown",
   "metadata": {
    "Collapsed": "false",
    "slideshow": {
     "slide_type": "slide"
    }
   },
   "source": [
    "<img src=\"https://upload.wikimedia.org/wikipedia/commons/4/47/Logo_UTFSM.png\" width=\"200\" alt=\"utfsm-logo\" align=\"left\"/>\n",
    "\n",
    "# MAT281\n",
    "### Aplicaciones de la Matemática en la Ingeniería"
   ]
  },
  {
   "cell_type": "markdown",
   "metadata": {
    "Collapsed": "false",
    "slideshow": {
     "slide_type": "slide"
    }
   },
   "source": [
    "## Módulo 04\n",
    "## Laboratorio Clase 02: Regresión Lineal"
   ]
  },
  {
   "cell_type": "markdown",
   "metadata": {
    "Collapsed": "false"
   },
   "source": [
    "### Instrucciones\n",
    "\n",
    "\n",
    "* Completa tus datos personales (nombre y rol USM) en siguiente celda.\n",
    "* La escala es de 0 a 4 considerando solo valores enteros.\n",
    "* Debes _pushear_ tus cambios a tu repositorio personal del curso.\n",
    "* Como respaldo, debes enviar un archivo .zip con el siguiente formato `mXX_cYY_lab_apellido_nombre.zip` a alonso.ogueda@gmail.com, debe contener todo lo necesario para que se ejecute correctamente cada celda, ya sea datos, imágenes, scripts, etc.\n",
    "* Se evaluará:\n",
    "    - Soluciones\n",
    "    - Código\n",
    "    - Que Binder esté bien configurado.\n",
    "    - Al presionar  `Kernel -> Restart Kernel and Run All Cells` deben ejecutarse todas las celdas sin error."
   ]
  },
  {
   "cell_type": "markdown",
   "metadata": {
    "Collapsed": "false"
   },
   "source": [
    "__Nombre__: Tomás Tapia Cáceres\n",
    "\n",
    "__Rol__: 201711049-k"
   ]
  },
  {
   "cell_type": "code",
   "execution_count": 1,
   "metadata": {
    "Collapsed": "false"
   },
   "outputs": [],
   "source": [
    "import numpy as np\n",
    "import pandas as pd\n",
    "import matplotlib.pyplot as plt\n",
    "import altair as alt\n",
    "\n",
    "from sklearn import datasets, linear_model\n",
    "from sklearn.metrics import mean_squared_error, r2_score\n",
    "from sklearn.linear_model import LinearRegression #agregada para poder hacer la regresion\n",
    "\n",
    "alt.themes.enable('opaque')\n",
    "%matplotlib inline"
   ]
  },
  {
   "cell_type": "markdown",
   "metadata": {
    "Collapsed": "false"
   },
   "source": [
    "## Ejercicio 1: Diabetes"
   ]
  },
  {
   "cell_type": "markdown",
   "metadata": {
    "Collapsed": "false"
   },
   "source": [
    "Realizar análisis de regresión a los datos de diabetes disponibles en scikit-learn"
   ]
  },
  {
   "cell_type": "code",
   "execution_count": 2,
   "metadata": {
    "Collapsed": "false"
   },
   "outputs": [
    {
     "name": "stdout",
     "output_type": "stream",
     "text": [
      "['DESCR', 'data', 'data_filename', 'feature_names', 'target', 'target_filename']\n"
     ]
    }
   ],
   "source": [
    "diabetes = datasets.load_diabetes()\n",
    "print(dir(diabetes))  ## Atributos"
   ]
  },
  {
   "cell_type": "code",
   "execution_count": 3,
   "metadata": {
    "Collapsed": "false"
   },
   "outputs": [
    {
     "name": "stdout",
     "output_type": "stream",
     "text": [
      ".. _diabetes_dataset:\n",
      "\n",
      "Diabetes dataset\n",
      "----------------\n",
      "\n",
      "Ten baseline variables, age, sex, body mass index, average blood\n",
      "pressure, and six blood serum measurements were obtained for each of n =\n",
      "442 diabetes patients, as well as the response of interest, a\n",
      "quantitative measure of disease progression one year after baseline.\n",
      "\n",
      "**Data Set Characteristics:**\n",
      "\n",
      "  :Number of Instances: 442\n",
      "\n",
      "  :Number of Attributes: First 10 columns are numeric predictive values\n",
      "\n",
      "  :Target: Column 11 is a quantitative measure of disease progression one year after baseline\n",
      "\n",
      "  :Attribute Information:\n",
      "      - Age\n",
      "      - Sex\n",
      "      - Body mass index\n",
      "      - Average blood pressure\n",
      "      - S1\n",
      "      - S2\n",
      "      - S3\n",
      "      - S4\n",
      "      - S5\n",
      "      - S6\n",
      "\n",
      "Note: Each of these 10 feature variables have been mean centered and scaled by the standard deviation times `n_samples` (i.e. the sum of squares of each column totals 1).\n",
      "\n",
      "Source URL:\n",
      "https://www4.stat.ncsu.edu/~boos/var.select/diabetes.html\n",
      "\n",
      "For more information see:\n",
      "Bradley Efron, Trevor Hastie, Iain Johnstone and Robert Tibshirani (2004) \"Least Angle Regression,\" Annals of Statistics (with discussion), 407-499.\n",
      "(https://web.stanford.edu/~hastie/Papers/LARS/LeastAngle_2002.pdf)\n"
     ]
    }
   ],
   "source": [
    "print(diabetes.DESCR)\n",
    "#print(diabetes.data)"
   ]
  },
  {
   "cell_type": "code",
   "execution_count": 4,
   "metadata": {
    "Collapsed": "false"
   },
   "outputs": [
    {
     "data": {
      "text/html": [
       "<div>\n",
       "<style scoped>\n",
       "    .dataframe tbody tr th:only-of-type {\n",
       "        vertical-align: middle;\n",
       "    }\n",
       "\n",
       "    .dataframe tbody tr th {\n",
       "        vertical-align: top;\n",
       "    }\n",
       "\n",
       "    .dataframe thead th {\n",
       "        text-align: right;\n",
       "    }\n",
       "</style>\n",
       "<table border=\"1\" class=\"dataframe\">\n",
       "  <thead>\n",
       "    <tr style=\"text-align: right;\">\n",
       "      <th></th>\n",
       "      <th>age</th>\n",
       "      <th>sex</th>\n",
       "      <th>bmi</th>\n",
       "      <th>bp</th>\n",
       "      <th>s1</th>\n",
       "      <th>s2</th>\n",
       "      <th>s3</th>\n",
       "      <th>s4</th>\n",
       "      <th>s5</th>\n",
       "      <th>s6</th>\n",
       "      <th>prog</th>\n",
       "    </tr>\n",
       "  </thead>\n",
       "  <tbody>\n",
       "    <tr>\n",
       "      <td>0</td>\n",
       "      <td>0.038076</td>\n",
       "      <td>0.050680</td>\n",
       "      <td>0.061696</td>\n",
       "      <td>0.021872</td>\n",
       "      <td>-0.044223</td>\n",
       "      <td>-0.034821</td>\n",
       "      <td>-0.043401</td>\n",
       "      <td>-0.002592</td>\n",
       "      <td>0.019908</td>\n",
       "      <td>-0.017646</td>\n",
       "      <td>151.0</td>\n",
       "    </tr>\n",
       "    <tr>\n",
       "      <td>1</td>\n",
       "      <td>-0.001882</td>\n",
       "      <td>-0.044642</td>\n",
       "      <td>-0.051474</td>\n",
       "      <td>-0.026328</td>\n",
       "      <td>-0.008449</td>\n",
       "      <td>-0.019163</td>\n",
       "      <td>0.074412</td>\n",
       "      <td>-0.039493</td>\n",
       "      <td>-0.068330</td>\n",
       "      <td>-0.092204</td>\n",
       "      <td>75.0</td>\n",
       "    </tr>\n",
       "    <tr>\n",
       "      <td>2</td>\n",
       "      <td>0.085299</td>\n",
       "      <td>0.050680</td>\n",
       "      <td>0.044451</td>\n",
       "      <td>-0.005671</td>\n",
       "      <td>-0.045599</td>\n",
       "      <td>-0.034194</td>\n",
       "      <td>-0.032356</td>\n",
       "      <td>-0.002592</td>\n",
       "      <td>0.002864</td>\n",
       "      <td>-0.025930</td>\n",
       "      <td>141.0</td>\n",
       "    </tr>\n",
       "    <tr>\n",
       "      <td>3</td>\n",
       "      <td>-0.089063</td>\n",
       "      <td>-0.044642</td>\n",
       "      <td>-0.011595</td>\n",
       "      <td>-0.036656</td>\n",
       "      <td>0.012191</td>\n",
       "      <td>0.024991</td>\n",
       "      <td>-0.036038</td>\n",
       "      <td>0.034309</td>\n",
       "      <td>0.022692</td>\n",
       "      <td>-0.009362</td>\n",
       "      <td>206.0</td>\n",
       "    </tr>\n",
       "    <tr>\n",
       "      <td>4</td>\n",
       "      <td>0.005383</td>\n",
       "      <td>-0.044642</td>\n",
       "      <td>-0.036385</td>\n",
       "      <td>0.021872</td>\n",
       "      <td>0.003935</td>\n",
       "      <td>0.015596</td>\n",
       "      <td>0.008142</td>\n",
       "      <td>-0.002592</td>\n",
       "      <td>-0.031991</td>\n",
       "      <td>-0.046641</td>\n",
       "      <td>135.0</td>\n",
       "    </tr>\n",
       "  </tbody>\n",
       "</table>\n",
       "</div>"
      ],
      "text/plain": [
       "        age       sex       bmi        bp        s1        s2        s3  \\\n",
       "0  0.038076  0.050680  0.061696  0.021872 -0.044223 -0.034821 -0.043401   \n",
       "1 -0.001882 -0.044642 -0.051474 -0.026328 -0.008449 -0.019163  0.074412   \n",
       "2  0.085299  0.050680  0.044451 -0.005671 -0.045599 -0.034194 -0.032356   \n",
       "3 -0.089063 -0.044642 -0.011595 -0.036656  0.012191  0.024991 -0.036038   \n",
       "4  0.005383 -0.044642 -0.036385  0.021872  0.003935  0.015596  0.008142   \n",
       "\n",
       "         s4        s5        s6   prog  \n",
       "0 -0.002592  0.019908 -0.017646  151.0  \n",
       "1 -0.039493 -0.068330 -0.092204   75.0  \n",
       "2 -0.002592  0.002864 -0.025930  141.0  \n",
       "3  0.034309  0.022692 -0.009362  206.0  \n",
       "4 -0.002592 -0.031991 -0.046641  135.0  "
      ]
     },
     "execution_count": 4,
     "metadata": {},
     "output_type": "execute_result"
    }
   ],
   "source": [
    "diabetes_df = (\n",
    "    pd.DataFrame(\n",
    "        diabetes.data,\n",
    "        columns=diabetes.feature_names\n",
    "    )\n",
    "    .assign(prog=diabetes.target)\n",
    ")\n",
    "\n",
    "diabetes_df.head()"
   ]
  },
  {
   "cell_type": "markdown",
   "metadata": {
    "Collapsed": "false"
   },
   "source": [
    "#### Pregunta 1 (1 pto):\n",
    "\n",
    "* ¿Por qué la columna de sexo tiene esos valores?\n",
    "* ¿Cuál es la columna a predecir?"
   ]
  },
  {
   "cell_type": "markdown",
   "metadata": {
    "Collapsed": "false"
   },
   "source": [
    "Los datos estan normalizados/estandarizados. Se nota en la columna sexo que dos numeros se repiten, uno asignado para masculino y el otro femenido (posiblemente 1 y 0, -1 y 1, etc.)\n",
    "\n",
    "La columna a predecir es \"prog\", ya que son resultados obtenidos por otros examenes; por la tanto por medio de los otros 10 datos, poder hacer una correcta prediccion de los \"targets\""
   ]
  },
  {
   "cell_type": "markdown",
   "metadata": {
    "Collapsed": "false"
   },
   "source": [
    "#### Pregunta 2 (1 pto)\n",
    "\n",
    "Realiza una regresión lineal con todas las _features_ incluyendo intercepto."
   ]
  },
  {
   "cell_type": "code",
   "execution_count": 5,
   "metadata": {
    "Collapsed": "false"
   },
   "outputs": [],
   "source": [
    "X = diabetes_df.drop(columns=\"prog\").values\n",
    "y = diabetes_df[\"prog\"].values"
   ]
  },
  {
   "cell_type": "markdown",
   "metadata": {
    "Collapsed": "false"
   },
   "source": [
    "Ajusta el modelo"
   ]
  },
  {
   "cell_type": "code",
   "execution_count": 6,
   "metadata": {
    "Collapsed": "false"
   },
   "outputs": [
    {
     "data": {
      "text/plain": [
       "LinearRegression(copy_X=True, fit_intercept=True, n_jobs=None, normalize=False)"
      ]
     },
     "execution_count": 6,
     "metadata": {},
     "output_type": "execute_result"
    }
   ],
   "source": [
    "regr = LinearRegression(fit_intercept=True)\n",
    "regr.fit(X,y)"
   ]
  },
  {
   "cell_type": "markdown",
   "metadata": {
    "Collapsed": "false"
   },
   "source": [
    "Imprime el intercepto y los coeficientes luego de ajustar el modelo."
   ]
  },
  {
   "cell_type": "code",
   "execution_count": 7,
   "metadata": {
    "Collapsed": "false"
   },
   "outputs": [
    {
     "name": "stdout",
     "output_type": "stream",
     "text": [
      "Intercept: \n",
      "152.1334841628965\n",
      "\n",
      "Coefficients: \n",
      "[ -10.01219782 -239.81908937  519.83978679  324.39042769 -792.18416163\n",
      "  476.74583782  101.04457032  177.06417623  751.27932109   67.62538639]\n",
      "\n"
     ]
    }
   ],
   "source": [
    "print(f\"Intercept: \\n{regr.intercept_}\\n\")\n",
    "print(f\"Coefficients: \\n{regr.coef_}\\n\")"
   ]
  },
  {
   "cell_type": "markdown",
   "metadata": {
    "Collapsed": "false"
   },
   "source": [
    "Haz una predicción del modelo con los datos `X`."
   ]
  },
  {
   "cell_type": "code",
   "execution_count": 8,
   "metadata": {
    "Collapsed": "false"
   },
   "outputs": [],
   "source": [
    "y_pred = regr.predict(X)"
   ]
  },
  {
   "cell_type": "markdown",
   "metadata": {
    "Collapsed": "false"
   },
   "source": [
    "Calcula e imprime el error cuadrático medio y el coeficiente de determinación de este modelo ajustado."
   ]
  },
  {
   "cell_type": "code",
   "execution_count": 9,
   "metadata": {
    "Collapsed": "false"
   },
   "outputs": [
    {
     "name": "stdout",
     "output_type": "stream",
     "text": [
      "Mean squared error: 2859.69\n",
      "\n",
      "Coefficient of determination: 0.52\n",
      "\n"
     ]
    }
   ],
   "source": [
    "# Error cuadrático medio\n",
    "print(f\"Mean squared error: {mean_squared_error(y,y_pred):.2f}\\n\")\n",
    "\n",
    "# Coeficiente de determinación\n",
    "print(f\"Coefficient of determination: {r2_score(y,y_pred):.2f}\\n\")"
   ]
  },
  {
   "cell_type": "markdown",
   "metadata": {
    "Collapsed": "false"
   },
   "source": [
    "**Pregunta: ¿Qué tan bueno fue el ajuste del modelo?**"
   ]
  },
  {
   "cell_type": "markdown",
   "metadata": {
    "Collapsed": "false"
   },
   "source": [
    "Se puede ver que el Error cuadrático medio es muy alto, ya que deberia tender a 0 en el mejor de los casos; por otro lado, el coeficiente de determinacion está en un punto medio (0<=r<=1), pero aún así es, para efectos de fidelidad de datos, muy poco preciso. Por lo tanto, creo que este ajuste del modelo no es muy bueno."
   ]
  },
  {
   "cell_type": "markdown",
   "metadata": {
    "Collapsed": "false"
   },
   "source": [
    "### Pregunta 3 (2 ptos).\n",
    "\n",
    "Realizar multiples regresiones lineales utilizando una sola _feature_ a la vez. \n",
    "\n",
    "En cada iteración:\n",
    "\n",
    "- Crea un arreglo `X`con solo una feature filtrando `X`.\n",
    "- Crea un modelo de regresión lineal con intercepto.\n",
    "- Ajusta el modelo anterior.\n",
    "- Genera una predicción con el modelo.\n",
    "- Calcula e imprime las métricas de la pregunta anterior."
   ]
  },
  {
   "cell_type": "code",
   "execution_count": 10,
   "metadata": {
    "Collapsed": "false"
   },
   "outputs": [
    {
     "name": "stdout",
     "output_type": "stream",
     "text": [
      "age:\n",
      "\tCoefficients: [304.18307453]\n",
      "\tIntercept: 152.13348416289605\n",
      "\tMean squared error: 5720.55\n",
      "\tCoefficient of determination: 0.04\n",
      "\n",
      "sex:\n",
      "\tCoefficients: [69.71535568]\n",
      "\tIntercept: 152.13348416289594\n",
      "\tMean squared error: 5918.89\n",
      "\tCoefficient of determination: 0.00\n",
      "\n",
      "bmi:\n",
      "\tCoefficients: [949.43526038]\n",
      "\tIntercept: 152.1334841628967\n",
      "\tMean squared error: 3890.46\n",
      "\tCoefficient of determination: 0.34\n",
      "\n",
      "bp:\n",
      "\tCoefficients: [714.7416437]\n",
      "\tIntercept: 152.13348416289585\n",
      "\tMean squared error: 4774.10\n",
      "\tCoefficient of determination: 0.19\n",
      "\n",
      "s1:\n",
      "\tCoefficients: [343.25445189]\n",
      "\tIntercept: 152.13348416289597\n",
      "\tMean squared error: 5663.32\n",
      "\tCoefficient of determination: 0.04\n",
      "\n",
      "s2:\n",
      "\tCoefficients: [281.78459335]\n",
      "\tIntercept: 152.1334841628959\n",
      "\tMean squared error: 5750.24\n",
      "\tCoefficient of determination: 0.03\n",
      "\n",
      "s3:\n",
      "\tCoefficients: [-639.14527932]\n",
      "\tIntercept: 152.13348416289566\n",
      "\tMean squared error: 5005.66\n",
      "\tCoefficient of determination: 0.16\n",
      "\n",
      "s4:\n",
      "\tCoefficients: [696.88303009]\n",
      "\tIntercept: 152.13348416289568\n",
      "\tMean squared error: 4831.14\n",
      "\tCoefficient of determination: 0.19\n",
      "\n",
      "s5:\n",
      "\tCoefficients: [916.13872282]\n",
      "\tIntercept: 152.13348416289628\n",
      "\tMean squared error: 4030.99\n",
      "\tCoefficient of determination: 0.32\n",
      "\n",
      "s6:\n",
      "\tCoefficients: [619.22282068]\n",
      "\tIntercept: 152.13348416289614\n",
      "\tMean squared error: 5062.38\n",
      "\tCoefficient of determination: 0.15\n",
      "\n"
     ]
    }
   ],
   "source": [
    "for i in range(X.shape[1]):\n",
    "    X_i = X[:, np.newaxis, i]  # Protip! Trata de entender este paso por tu cuenta, es muy clever\n",
    "    regr_i = LinearRegression(fit_intercept=True)\n",
    "    regr_i.fit(X_i.reshape(-1,1),y)\n",
    "    y_pred_i = regr_i.predict(X_i)\n",
    "    print(f\"{diabetes_df.columns[i]}:\")\n",
    "    print(f\"\\tCoefficients: {regr_i.coef_}\")\n",
    "    print(f\"\\tIntercept: {regr_i.intercept_}\")\n",
    "    print(f\"\\tMean squared error: {mean_squared_error(y, y_pred_i):.2f}\")\n",
    "    print(f\"\\tCoefficient of determination: {r2_score(y, y_pred_i):.2f}\\n\")"
   ]
  },
  {
   "cell_type": "markdown",
   "metadata": {
    "Collapsed": "false"
   },
   "source": [
    "**Si tuvieras que escoger una sola _feauture_, ¿Cuál sería? ¿Por qué?**"
   ]
  },
  {
   "cell_type": "markdown",
   "metadata": {
    "Collapsed": "false"
   },
   "source": [
    "Elegiría el bmi, ya que es el que tiene un coeficiente de correlacion más cercano a 1 y tambien el error cuadratico medio más pequeño."
   ]
  },
  {
   "cell_type": "markdown",
   "metadata": {
    "Collapsed": "false"
   },
   "source": [
    "Con la feature escogida haz el siguiente gráfico:\n",
    "\n",
    "- Scatter Plot\n",
    "- Eje X: Valores de la feature escogida.\n",
    "- Eje Y: Valores de la columna a predecir (target).\n",
    "- En color rojo dibuja la recta correspondiente a la regresión lineal (utilizando `intercept_`y `coefs_`).\n",
    "- Coloca un título adecuado, nombre de los ejes, etc.\n",
    "\n",
    "Puedes utilizar `matplotlib` o `altair`, el que prefiera."
   ]
  },
  {
   "cell_type": "code",
   "execution_count": 11,
   "metadata": {
    "Collapsed": "false"
   },
   "outputs": [],
   "source": [
    "## FIX ME PLEASE ##"
   ]
  }
 ],
 "metadata": {
  "celltoolbar": "Slideshow",
  "kernelspec": {
   "display_name": "Python 3",
   "language": "python",
   "name": "python3"
  },
  "language_info": {
   "codemirror_mode": {
    "name": "ipython",
    "version": 3
   },
   "file_extension": ".py",
   "mimetype": "text/x-python",
   "name": "python",
   "nbconvert_exporter": "python",
   "pygments_lexer": "ipython3",
   "version": "3.7.6"
  }
 },
 "nbformat": 4,
 "nbformat_minor": 4
}
