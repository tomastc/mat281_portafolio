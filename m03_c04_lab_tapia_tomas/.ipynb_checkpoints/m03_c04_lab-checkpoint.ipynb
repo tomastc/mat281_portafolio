{
 "cells": [
  {
   "cell_type": "markdown",
   "metadata": {
    "Collapsed": "false",
    "slideshow": {
     "slide_type": "slide"
    }
   },
   "source": [
    "<img src=\"https://upload.wikimedia.org/wikipedia/commons/4/47/Logo_UTFSM.png\" width=\"200\" alt=\"utfsm-logo\" align=\"left\"/>\n",
    "\n",
    "# MAT281\n",
    "### Aplicaciones de la Matemática en la Ingeniería"
   ]
  },
  {
   "cell_type": "markdown",
   "metadata": {
    "Collapsed": "false",
    "slideshow": {
     "slide_type": "slide"
    }
   },
   "source": [
    "## Módulo 03\n",
    "## Laboratorio Clase 04: Visualización Interactiva"
   ]
  },
  {
   "cell_type": "markdown",
   "metadata": {
    "Collapsed": "false"
   },
   "source": [
    "### Instrucciones\n",
    "\n",
    "\n",
    "* Completa tus datos personales (nombre y rol USM) en siguiente celda.\n",
    "* La escala es de 0 a 4 considerando solo valores enteros.\n",
    "* Debes _pushear_ tus cambios a tu repositorio personal del curso.\n",
    "* Como respaldo, debes enviar un archivo .zip con el siguiente formato `mXX_cYY_lab_apellido_nombre.zip` a alonso.ogueda@gmail.com, debe contener todo lo necesario para que se ejecute correctamente cada celda, ya sea datos, imágenes, scripts, etc.\n",
    "* Se evaluará:\n",
    "    - Soluciones\n",
    "    - Código\n",
    "    - Que Binder esté bien configurado.\n",
    "    - Al presionar  `Kernel -> Restart Kernel and Run All Cells` deben ejecutarse todas las celdas sin error.\n",
    "* __La entrega es al final de esta clase.__"
   ]
  },
  {
   "cell_type": "markdown",
   "metadata": {
    "Collapsed": "false"
   },
   "source": [
    "__Nombre__:\n",
    "\n",
    "__Rol__:"
   ]
  },
  {
   "cell_type": "code",
   "execution_count": null,
   "metadata": {
    "Collapsed": "false"
   },
   "outputs": [],
   "source": [
    "import os\n",
    "import numpy as np\n",
    "import pandas as pd\n",
    "import altair as alt\n",
    "\n",
    "alt.themes.enable('opaque')  # Para quienes utilizan temas oscuros en Jupyter Lab"
   ]
  },
  {
   "cell_type": "markdown",
   "metadata": {
    "Collapsed": "false"
   },
   "source": [
    "## Ejercicio 1 (1 pto)\n",
    "\n",
    "Volveremos a utilizar los datos de _European Union lesbian, gay, bisexual and transgender survey (2012)_, para ello los cargaremos tal como en el laboratorio anterior.\n",
    "\n",
    "Utilizando `altair` realiza la siguiente visualización:\n",
    "\n",
    "1. Filtra los datos tal de utilizar solo la pregunta con código `g5`, que corresponde a _All things considered, how satisfied would you say you are with your life these days? *_.\n",
    "2. Debe ser un gráfico de barras horizontal tal que:\n",
    "    1. Para cada grupo mostrar el porcentaje.\n",
    "    2. Colorear por valor de la respuesta (recuerda que la pregunta `g5` tiene respuestas numéricas).\n",
    "    3. Debe haber un gráfico por cada país. Hint: utiliza el encode `row`."
   ]
  },
  {
   "cell_type": "code",
   "execution_count": null,
   "metadata": {
    "Collapsed": "false"
   },
   "outputs": [],
   "source": [
    "daily_life = (\n",
    "    pd.read_csv(os.path.join(\"data\", \"LGBT_Survey_DailyLife.csv\"))\n",
    "    .query(\"notes != ' [1] '\")\n",
    "    .astype({\"percentage\": \"int\"})\n",
    "    .drop(columns=\"notes\")\n",
    "    .rename(columns={\"CountryCode\": \"country\"})\n",
    ")\n",
    "daily_life.head()"
   ]
  },
  {
   "cell_type": "code",
   "execution_count": null,
   "metadata": {
    "Collapsed": "false"
   },
   "outputs": [],
   "source": [
    "alt.Chart(daily_life.query(\"question_code == #FIXME\")).mark_#FIXME().encode(\n",
    "    x= # FIX ME,\n",
    "    y=# FIX ME,\n",
    "    color=# FIX ME,\n",
    "    row# FIX ME\n",
    ")"
   ]
  },
  {
   "cell_type": "markdown",
   "metadata": {
    "Collapsed": "false"
   },
   "source": [
    "## Ejercicio 2 (1 pto)\n",
    "\n",
    "Para esta parte utilizaremos un conjunto de datos de __Precios de Paltas__, extraído desde [Kaggle](https://www.kaggle.com/neuromusic/avocado-prices).\n",
    "\n",
    "#### Context\n",
    "_It is a well known fact that Millenials LOVE Avocado Toast. It's also a well known fact that all Millenials live in their parents basements._\n",
    "\n",
    "Clearly, they aren't buying home because they are buying too much Avocado Toast!\n",
    "\n",
    "But maybe there's hope... if a Millenial could find a city with cheap avocados, they could live out the Millenial American Dream.\n",
    "\n",
    "#### Content\n",
    "This data was downloaded from the Hass Avocado Board website in May of 2018 & compiled into a single CSV. Here's how the Hass Avocado Board describes the data on their website:\n",
    "\n",
    "> The table below represents weekly 2018 retail scan data for National retail volume (units) and price. Retail scan data comes directly from retailers’ cash registers based on actual retail sales of Hass avocados. Starting in 2013, the table below reflects an expanded, multi-outlet retail data set. Multi-outlet reporting includes an aggregation of the following channels: grocery, mass, club, drug, dollar and military. The Average Price (of avocados) in the table reflects a per unit (per avocado) cost, even when multiple units (avocados) are sold in bags. The Product Lookup codes (PLU’s) in the table are only for Hass avocados. Other varieties of avocados (e.g. greenskins) are not included in this table.\n",
    "\n",
    "Some relevant columns in the dataset:\n",
    "\n",
    "* `Date` - The date of the observation\n",
    "* `AveragePrice` - the average price of a single avocado\n",
    "* `type` - conventional or organic\n",
    "* `year` - the year\n",
    "* `Region` - the city or region of the observation\n",
    "* `Total` Volume - Total number of avocados sold\n",
    "* `4046` - Total number of avocados with PLU 4046 sold\n",
    "* `4225` - Total number of avocados with PLU 4225 sold\n",
    "* `4770` - Total number of avocados with PLU 4770 sold"
   ]
  },
  {
   "cell_type": "markdown",
   "metadata": {
    "Collapsed": "false"
   },
   "source": [
    "Veamos el conjunto de datos y formatémoslo con tal de aprovechar mejor la información"
   ]
  },
  {
   "cell_type": "code",
   "execution_count": null,
   "metadata": {
    "Collapsed": "false"
   },
   "outputs": [],
   "source": [
    "paltas_raw = pd.read_csv(os.path.join(\"data\", \"avocado.csv\"), index_col=0)\n",
    "paltas_raw.head()"
   ]
  },
  {
   "cell_type": "code",
   "execution_count": null,
   "metadata": {
    "Collapsed": "false"
   },
   "outputs": [],
   "source": [
    "paltas = (\n",
    "    paltas_raw.assign(\n",
    "        dt_date=lambda x: pd.to_datetime(x[\"Date\"], format=\"%Y-%m-%d\")\n",
    "    )\n",
    "    .drop(columns=[\"Date\", \"year\"])\n",
    ")\n",
    "    \n",
    "paltas.head()"
   ]
  },
  {
   "cell_type": "markdown",
   "metadata": {
    "Collapsed": "false"
   },
   "source": [
    "Haz un gráfico de líneas tal que:\n",
    "\n",
    "* El eje horziontal corresponda a la fecha.\n",
    "* El eje vertical al promedio de precio.\n",
    "* El color sea por tipo de palta."
   ]
  },
  {
   "cell_type": "code",
   "execution_count": null,
   "metadata": {
    "Collapsed": "false"
   },
   "outputs": [],
   "source": [
    "try:\n",
    "    alt.Chart(# FIX ME).mark_#FIXmE().encode(\n",
    "            x=# FIX ME,\n",
    "            y=# FIX ME,\n",
    "            color=# FIX ME\n",
    "        )\n",
    "except:\n",
    "    print(\"Exception?\")"
   ]
  },
  {
   "cell_type": "markdown",
   "metadata": {
    "Collapsed": "false"
   },
   "source": [
    "¿`MaxRowError`? ¿Qué es eso? Para todo el detalle puedes dirigirte [aquí](https://altair-viz.github.io/user_guide/faq.html). En lo que nos concierne, `altair` no solo genera los pixeles de un gráfico, si no que también guarda la data asociada a él. Este error es para advertir al usuario que los jupyter notebooks podrían utilizar mucha memoria. \n",
    "\n",
    "Una buena práctica en estos datos, es generar un archivo `json` con los datos y `altair` es capaz de leer la url directamente. El único inconveniente es que no detecta el tipo de dato automáticamente, por lo que siempre se debe decalrar.\n",
    "\n",
    "Ejecuta la siguiente celda para generar el archivo `json`."
   ]
  },
  {
   "cell_type": "code",
   "execution_count": null,
   "metadata": {
    "Collapsed": "false"
   },
   "outputs": [],
   "source": [
    "paltas_url = os.path.join(\"data\", \"paltas.json\")\n",
    "paltas.to_json(paltas_url, orient=\"records\")\n",
    "\n",
    "alt.data_transformers.enable('json')  # Para poder leer directamente la url de un archivo json."
   ]
  },
  {
   "cell_type": "markdown",
   "metadata": {
    "Collapsed": "false"
   },
   "source": [
    "Vuelve a intentar generar el gráfico pero como argumento utiliza la url."
   ]
  },
  {
   "cell_type": "code",
   "execution_count": null,
   "metadata": {
    "Collapsed": "false"
   },
   "outputs": [],
   "source": [
    "alt.Chart(paltas_url).mark_#FIXME().encode(\n",
    "    x=\"# FIX ME:T\",\n",
    "    y=\"# FIX ME:Q\",\n",
    "    color=\"# FIX ME:N\"\n",
    ").properties(\n",
    "    width=800, \n",
    "    height=400 \n",
    ")"
   ]
  },
  {
   "cell_type": "markdown",
   "metadata": {
    "Collapsed": "false"
   },
   "source": [
    "## Ejercicio 3 (2 ptos)\n",
    "\n",
    "GEnera un gráfico similar al del gráfico anterior, pero esta vez coloreando por región, es decir, un gráfico de líneas tal que:\n",
    "\n",
    "* El eje horziontal corresponda a la fecha.\n",
    "* El eje vertical al promedio de precio.\n",
    "* El color sea por región."
   ]
  },
  {
   "cell_type": "code",
   "execution_count": null,
   "metadata": {
    "Collapsed": "false"
   },
   "outputs": [],
   "source": [
    "alt.Chart(paltas_url).mark_# FIX ME().encode(\n",
    "    x=# FIX ME,\n",
    "    y=# FIX ME,\n",
    "    color=# FIX ME\n",
    ").properties(\n",
    "    width=800, \n",
    "    height=400 \n",
    ")"
   ]
  },
  {
   "cell_type": "markdown",
   "metadata": {
    "Collapsed": "false"
   },
   "source": [
    "¿Te parece adecuado y/o que entrega información útil?"
   ]
  },
  {
   "cell_type": "markdown",
   "metadata": {
    "Collapsed": "false"
   },
   "source": [
    "Ahora, para mostrar la misma información, genera un mapa de calor."
   ]
  },
  {
   "cell_type": "code",
   "execution_count": null,
   "metadata": {
    "Collapsed": "false"
   },
   "outputs": [],
   "source": [
    "alt.Chart(# FIX ME).mark_# FIX ME.encode(\n",
    "    x=# FIX ME,\n",
    "    color=# FIX ME,\n",
    "    y=# FIX ME\n",
    ").properties(\n",
    "    width=800, \n",
    "    height=800 \n",
    ")"
   ]
  }
 ],
 "metadata": {
  "celltoolbar": "Slideshow",
  "kernelspec": {
   "display_name": "Python 3",
   "language": "python",
   "name": "python3"
  },
  "language_info": {
   "codemirror_mode": {
    "name": "ipython",
    "version": 3
   },
   "file_extension": ".py",
   "mimetype": "text/x-python",
   "name": "python",
   "nbconvert_exporter": "python",
   "pygments_lexer": "ipython3",
   "version": "3.7.6"
  }
 },
 "nbformat": 4,
 "nbformat_minor": 4
}
